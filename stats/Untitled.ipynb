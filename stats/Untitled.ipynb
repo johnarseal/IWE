{
 "cells": [
  {
   "cell_type": "code",
   "execution_count": 1,
   "metadata": {
    "collapsed": true
   },
   "outputs": [],
   "source": [
    "import MySQLdb\n",
    "\n",
    "def conDB(dbName):   \n",
    "    DATABASE = {\"mozilla\":\"iwe\"}\n",
    "    db = MySQLdb.connect(\"localhost\",\"root\",\"9182736450\",DATABASE[dbName])\n",
    "    cursor = db.cursor()\n",
    "    return cursor"
   ]
  },
  {
   "cell_type": "code",
   "execution_count": 2,
   "metadata": {
    "collapsed": false
   },
   "outputs": [
    {
     "name": "stdout",
     "output_type": "stream",
     "text": [
      "2.88361528768\n"
     ]
    }
   ],
   "source": [
    "import time\n",
    "t1 = time.clock()\n",
    "cursor = conDB(\"mozilla\")\n",
    "sql = \"\"\"\n",
    "SELECT transition, UNIX_TIMESTAMP(ts1) - UNIX_TIMESTAMP(ts0),\n",
    "UNIX_TIMESTAMP(ts2) - UNIX_TIMESTAMP(ts1),\n",
    "UNIX_TIMESTAMP(ts3) - UNIX_TIMESTAMP(ts2),\n",
    "UNIX_TIMESTAMP(ts4)- UNIX_TIMESTAMP(ts3),\n",
    "UNIX_TIMESTAMP(ts5)- UNIX_TIMESTAMP(ts4) FROM iwe_statustran\n",
    "\"\"\"\n",
    "cursor.execute(sql)\n",
    "t2 = time.clock()\n",
    "print t2 - t1"
   ]
  },
  {
   "cell_type": "code",
   "execution_count": 3,
   "metadata": {
    "collapsed": false
   },
   "outputs": [],
   "source": [
    "import pandas as pd\n",
    "rawD = cursor.fetchall()\n",
    "data = list(rawD)\n",
    "    \n",
    "# init pandas dataframe\n",
    "df = pd.DataFrame(data)\n",
    "\n",
    "# data frame contains the median info\n",
    "medianDF = df.groupby(df[0]).median().T"
   ]
  },
  {
   "cell_type": "code",
   "execution_count": 4,
   "metadata": {
    "collapsed": false
   },
   "outputs": [
    {
     "data": {
      "text/html": [
       "<div>\n",
       "<table border=\"1\" class=\"dataframe\">\n",
       "  <thead>\n",
       "    <tr style=\"text-align: right;\">\n",
       "      <th></th>\n",
       "      <th>ASSIGNED NEW</th>\n",
       "      <th>ASSIGNED NEW ASSIGNED</th>\n",
       "      <th>ASSIGNED NEW ASSIGNED NEW</th>\n",
       "      <th>ASSIGNED NEW ASSIGNED NEW ASSIGNED</th>\n",
       "      <th>ASSIGNED NEW ASSIGNED NEW ASSIGNED NEW</th>\n",
       "      <th>ASSIGNED NEW ASSIGNED NEW ASSIGNED RESOLVED</th>\n",
       "      <th>ASSIGNED NEW ASSIGNED NEW RESOLVED</th>\n",
       "      <th>ASSIGNED NEW ASSIGNED NEW RESOLVED VERIFIED</th>\n",
       "      <th>ASSIGNED NEW ASSIGNED RESOLVED</th>\n",
       "      <th>ASSIGNED NEW ASSIGNED RESOLVED REOPENED NEW</th>\n",
       "      <th>...</th>\n",
       "      <th>UNCONFIRMED RESOLVED VERIFIED UNCONFIRMED ASSIGNED RESOLVED</th>\n",
       "      <th>UNCONFIRMED RESOLVED VERIFIED UNCONFIRMED NEW</th>\n",
       "      <th>UNCONFIRMED RESOLVED VERIFIED UNCONFIRMED NEW ASSIGNED</th>\n",
       "      <th>UNCONFIRMED RESOLVED VERIFIED UNCONFIRMED NEW RESOLVED</th>\n",
       "      <th>UNCONFIRMED RESOLVED VERIFIED UNCONFIRMED RESOLVED</th>\n",
       "      <th>UNCONFIRMED RESOLVED VERIFIED UNCONFIRMED RESOLVED CLOSED</th>\n",
       "      <th>UNCONFIRMED RESOLVED VERIFIED UNCONFIRMED RESOLVED UNCONFIRMED</th>\n",
       "      <th>UNCONFIRMED RESOLVED VERIFIED UNCONFIRMED RESOLVED VERIFIED</th>\n",
       "      <th>VERIFIED REOPENED RESOLVED VERIFIED</th>\n",
       "      <th>VERIFIED UNCONFIRMED RESOLVED VERIFIED</th>\n",
       "    </tr>\n",
       "  </thead>\n",
       "  <tbody>\n",
       "    <tr>\n",
       "      <th>1</th>\n",
       "      <td>21087081.0</td>\n",
       "      <td>3591521.0</td>\n",
       "      <td>17948492.0</td>\n",
       "      <td>2067637.0</td>\n",
       "      <td>6897421.0</td>\n",
       "      <td>6896824.0</td>\n",
       "      <td>6908381.5</td>\n",
       "      <td>6114361.0</td>\n",
       "      <td>3972830.0</td>\n",
       "      <td>419142.0</td>\n",
       "      <td>...</td>\n",
       "      <td>441241.0</td>\n",
       "      <td>94078.0</td>\n",
       "      <td>89771.0</td>\n",
       "      <td>30101.0</td>\n",
       "      <td>11152.0</td>\n",
       "      <td>54646.0</td>\n",
       "      <td>11060949.5</td>\n",
       "      <td>9065.5</td>\n",
       "      <td>76545326.0</td>\n",
       "      <td>19549636.5</td>\n",
       "    </tr>\n",
       "    <tr>\n",
       "      <th>2</th>\n",
       "      <td>NaN</td>\n",
       "      <td>6616153.0</td>\n",
       "      <td>7602607.0</td>\n",
       "      <td>4558239.0</td>\n",
       "      <td>623202.0</td>\n",
       "      <td>623172.0</td>\n",
       "      <td>774764.5</td>\n",
       "      <td>48302.0</td>\n",
       "      <td>703716.0</td>\n",
       "      <td>1284721.0</td>\n",
       "      <td>...</td>\n",
       "      <td>75616.0</td>\n",
       "      <td>22748.5</td>\n",
       "      <td>1583629.0</td>\n",
       "      <td>29482.5</td>\n",
       "      <td>15541.0</td>\n",
       "      <td>4714.0</td>\n",
       "      <td>21224.0</td>\n",
       "      <td>16542.5</td>\n",
       "      <td>73.0</td>\n",
       "      <td>2404202.5</td>\n",
       "    </tr>\n",
       "    <tr>\n",
       "      <th>3</th>\n",
       "      <td>NaN</td>\n",
       "      <td>NaN</td>\n",
       "      <td>6624657.0</td>\n",
       "      <td>286385.0</td>\n",
       "      <td>12174999.0</td>\n",
       "      <td>4841339.0</td>\n",
       "      <td>4441842.5</td>\n",
       "      <td>5257137.0</td>\n",
       "      <td>1398123.0</td>\n",
       "      <td>18585324.0</td>\n",
       "      <td>...</td>\n",
       "      <td>19985.0</td>\n",
       "      <td>3636711.5</td>\n",
       "      <td>147976724.0</td>\n",
       "      <td>630168.5</td>\n",
       "      <td>492742.0</td>\n",
       "      <td>642782.0</td>\n",
       "      <td>718.0</td>\n",
       "      <td>111098.0</td>\n",
       "      <td>129.0</td>\n",
       "      <td>2201495.0</td>\n",
       "    </tr>\n",
       "    <tr>\n",
       "      <th>4</th>\n",
       "      <td>NaN</td>\n",
       "      <td>NaN</td>\n",
       "      <td>NaN</td>\n",
       "      <td>1421447.0</td>\n",
       "      <td>14174223.0</td>\n",
       "      <td>619222.0</td>\n",
       "      <td>26363592.5</td>\n",
       "      <td>1665123.0</td>\n",
       "      <td>NaN</td>\n",
       "      <td>18903074.0</td>\n",
       "      <td>...</td>\n",
       "      <td>1663.5</td>\n",
       "      <td>102211.5</td>\n",
       "      <td>4569444.0</td>\n",
       "      <td>15745.0</td>\n",
       "      <td>2545.0</td>\n",
       "      <td>232041.0</td>\n",
       "      <td>500.0</td>\n",
       "      <td>1104.0</td>\n",
       "      <td>NaN</td>\n",
       "      <td>NaN</td>\n",
       "    </tr>\n",
       "    <tr>\n",
       "      <th>5</th>\n",
       "      <td>NaN</td>\n",
       "      <td>NaN</td>\n",
       "      <td>NaN</td>\n",
       "      <td>NaN</td>\n",
       "      <td>1213.0</td>\n",
       "      <td>591237.0</td>\n",
       "      <td>NaN</td>\n",
       "      <td>590973.0</td>\n",
       "      <td>NaN</td>\n",
       "      <td>41919367.0</td>\n",
       "      <td>...</td>\n",
       "      <td>7693677.5</td>\n",
       "      <td>NaN</td>\n",
       "      <td>69153653.0</td>\n",
       "      <td>32028197.0</td>\n",
       "      <td>NaN</td>\n",
       "      <td>1319832.0</td>\n",
       "      <td>2078.5</td>\n",
       "      <td>34200.0</td>\n",
       "      <td>NaN</td>\n",
       "      <td>NaN</td>\n",
       "    </tr>\n",
       "  </tbody>\n",
       "</table>\n",
       "<p>5 rows × 526 columns</p>\n",
       "</div>"
      ],
      "text/plain": [
       "0  ASSIGNED NEW  ASSIGNED NEW ASSIGNED  ASSIGNED NEW ASSIGNED NEW  \\\n",
       "1    21087081.0              3591521.0                 17948492.0   \n",
       "2           NaN              6616153.0                  7602607.0   \n",
       "3           NaN                    NaN                  6624657.0   \n",
       "4           NaN                    NaN                        NaN   \n",
       "5           NaN                    NaN                        NaN   \n",
       "\n",
       "0  ASSIGNED NEW ASSIGNED NEW ASSIGNED  ASSIGNED NEW ASSIGNED NEW ASSIGNED NEW  \\\n",
       "1                           2067637.0                               6897421.0   \n",
       "2                           4558239.0                                623202.0   \n",
       "3                            286385.0                              12174999.0   \n",
       "4                           1421447.0                              14174223.0   \n",
       "5                                 NaN                                  1213.0   \n",
       "\n",
       "0  ASSIGNED NEW ASSIGNED NEW ASSIGNED RESOLVED  \\\n",
       "1                                    6896824.0   \n",
       "2                                     623172.0   \n",
       "3                                    4841339.0   \n",
       "4                                     619222.0   \n",
       "5                                     591237.0   \n",
       "\n",
       "0  ASSIGNED NEW ASSIGNED NEW RESOLVED  \\\n",
       "1                           6908381.5   \n",
       "2                            774764.5   \n",
       "3                           4441842.5   \n",
       "4                          26363592.5   \n",
       "5                                 NaN   \n",
       "\n",
       "0  ASSIGNED NEW ASSIGNED NEW RESOLVED VERIFIED  \\\n",
       "1                                    6114361.0   \n",
       "2                                      48302.0   \n",
       "3                                    5257137.0   \n",
       "4                                    1665123.0   \n",
       "5                                     590973.0   \n",
       "\n",
       "0  ASSIGNED NEW ASSIGNED RESOLVED  \\\n",
       "1                       3972830.0   \n",
       "2                        703716.0   \n",
       "3                       1398123.0   \n",
       "4                             NaN   \n",
       "5                             NaN   \n",
       "\n",
       "0  ASSIGNED NEW ASSIGNED RESOLVED REOPENED NEW  \\\n",
       "1                                     419142.0   \n",
       "2                                    1284721.0   \n",
       "3                                   18585324.0   \n",
       "4                                   18903074.0   \n",
       "5                                   41919367.0   \n",
       "\n",
       "0                   ...                    \\\n",
       "1                   ...                     \n",
       "2                   ...                     \n",
       "3                   ...                     \n",
       "4                   ...                     \n",
       "5                   ...                     \n",
       "\n",
       "0  UNCONFIRMED RESOLVED VERIFIED UNCONFIRMED ASSIGNED RESOLVED  \\\n",
       "1                                           441241.0             \n",
       "2                                            75616.0             \n",
       "3                                            19985.0             \n",
       "4                                             1663.5             \n",
       "5                                          7693677.5             \n",
       "\n",
       "0  UNCONFIRMED RESOLVED VERIFIED UNCONFIRMED NEW  \\\n",
       "1                                        94078.0   \n",
       "2                                        22748.5   \n",
       "3                                      3636711.5   \n",
       "4                                       102211.5   \n",
       "5                                            NaN   \n",
       "\n",
       "0  UNCONFIRMED RESOLVED VERIFIED UNCONFIRMED NEW ASSIGNED  \\\n",
       "1                                            89771.0        \n",
       "2                                          1583629.0        \n",
       "3                                        147976724.0        \n",
       "4                                          4569444.0        \n",
       "5                                         69153653.0        \n",
       "\n",
       "0  UNCONFIRMED RESOLVED VERIFIED UNCONFIRMED NEW RESOLVED  \\\n",
       "1                                            30101.0        \n",
       "2                                            29482.5        \n",
       "3                                           630168.5        \n",
       "4                                            15745.0        \n",
       "5                                         32028197.0        \n",
       "\n",
       "0  UNCONFIRMED RESOLVED VERIFIED UNCONFIRMED RESOLVED  \\\n",
       "1                                            11152.0    \n",
       "2                                            15541.0    \n",
       "3                                           492742.0    \n",
       "4                                             2545.0    \n",
       "5                                                NaN    \n",
       "\n",
       "0  UNCONFIRMED RESOLVED VERIFIED UNCONFIRMED RESOLVED CLOSED  \\\n",
       "1                                            54646.0           \n",
       "2                                             4714.0           \n",
       "3                                           642782.0           \n",
       "4                                           232041.0           \n",
       "5                                          1319832.0           \n",
       "\n",
       "0  UNCONFIRMED RESOLVED VERIFIED UNCONFIRMED RESOLVED UNCONFIRMED  \\\n",
       "1                                         11060949.5                \n",
       "2                                            21224.0                \n",
       "3                                              718.0                \n",
       "4                                              500.0                \n",
       "5                                             2078.5                \n",
       "\n",
       "0  UNCONFIRMED RESOLVED VERIFIED UNCONFIRMED RESOLVED VERIFIED  \\\n",
       "1                                             9065.5             \n",
       "2                                            16542.5             \n",
       "3                                           111098.0             \n",
       "4                                             1104.0             \n",
       "5                                            34200.0             \n",
       "\n",
       "0  VERIFIED REOPENED RESOLVED VERIFIED  VERIFIED UNCONFIRMED RESOLVED VERIFIED  \n",
       "1                           76545326.0                              19549636.5  \n",
       "2                                 73.0                               2404202.5  \n",
       "3                                129.0                               2201495.0  \n",
       "4                                  NaN                                     NaN  \n",
       "5                                  NaN                                     NaN  \n",
       "\n",
       "[5 rows x 526 columns]"
      ]
     },
     "execution_count": 4,
     "metadata": {},
     "output_type": "execute_result"
    }
   ],
   "source": [
    "medianDF"
   ]
  },
  {
   "cell_type": "code",
   "execution_count": 5,
   "metadata": {
    "collapsed": false
   },
   "outputs": [
    {
     "data": {
      "text/plain": [
       "1    169342.0\n",
       "2    596539.0\n",
       "3    594961.0\n",
       "4         NaN\n",
       "5         NaN\n",
       "Name: NEW ASSIGNED RESOLVED VERIFIED, dtype: float64"
      ]
     },
     "execution_count": 5,
     "metadata": {},
     "output_type": "execute_result"
    }
   ],
   "source": [
    "medianDF[\"NEW ASSIGNED RESOLVED VERIFIED\"]"
   ]
  },
  {
   "cell_type": "code",
   "execution_count": 6,
   "metadata": {
    "collapsed": true
   },
   "outputs": [],
   "source": [
    "sizeSeries = df.groupby(df[0]).size()"
   ]
  },
  {
   "cell_type": "code",
   "execution_count": 7,
   "metadata": {
    "collapsed": false
   },
   "outputs": [
    {
     "data": {
      "text/plain": [
       "26603"
      ]
     },
     "execution_count": 7,
     "metadata": {},
     "output_type": "execute_result"
    }
   ],
   "source": [
    "sizeSeries[\"NEW ASSIGNED RESOLVED VERIFIED\"]"
   ]
  },
  {
   "cell_type": "code",
   "execution_count": null,
   "metadata": {
    "collapsed": true
   },
   "outputs": [],
   "source": []
  }
 ],
 "metadata": {
  "kernelspec": {
   "display_name": "Python 2",
   "language": "python",
   "name": "python2"
  },
  "language_info": {
   "codemirror_mode": {
    "name": "ipython",
    "version": 2
   },
   "file_extension": ".py",
   "mimetype": "text/x-python",
   "name": "python",
   "nbconvert_exporter": "python",
   "pygments_lexer": "ipython2",
   "version": "2.7.11"
  }
 },
 "nbformat": 4,
 "nbformat_minor": 0
}
