{
 "cells": [
  {
   "cell_type": "code",
   "execution_count": 1,
   "metadata": {
    "collapsed": true
   },
   "outputs": [],
   "source": [
    "import MySQLdb\n",
    "def conDB(dbName):   \n",
    "    DATABASE = {\"mozilla\":\"iwe\"}\n",
    "    db = MySQLdb.connect(\"localhost\",\"root\",\"9182736450\",DATABASE[dbName])\n",
    "    cursor = db.cursor()\n",
    "    return cursor\n",
    "\n",
    "cursor = conDB(\"mozilla\")\n"
   ]
  },
  {
   "cell_type": "code",
   "execution_count": 2,
   "metadata": {
    "collapsed": false
   },
   "outputs": [],
   "source": [
    "sqlTS = \"\"\"\n",
    "UNIX_TIMESTAMP(ts1) - UNIX_TIMESTAMP(ts0),\n",
    "UNIX_TIMESTAMP(ts2) - UNIX_TIMESTAMP(ts1),\n",
    "UNIX_TIMESTAMP(ts3) - UNIX_TIMESTAMP(ts2),\n",
    "UNIX_TIMESTAMP(ts4)- UNIX_TIMESTAMP(ts3),\n",
    "UNIX_TIMESTAMP(ts5)- UNIX_TIMESTAMP(ts4) \n",
    "\"\"\"\n",
    "sql = \"SELECT transition, \" + sqlTS + \" FROM iwe_statustran \"\n",
    "cursor.execute(sql)\n",
    "rawD = cursor.fetchall()"
   ]
  },
  {
   "cell_type": "code",
   "execution_count": 3,
   "metadata": {
    "collapsed": false
   },
   "outputs": [],
   "source": [
    "import numpy as np\n",
    "import pandas as pd"
   ]
  },
  {
   "cell_type": "code",
   "execution_count": 5,
   "metadata": {
    "collapsed": true
   },
   "outputs": [],
   "source": [
    "import time"
   ]
  },
  {
   "cell_type": "code",
   "execution_count": 6,
   "metadata": {
    "collapsed": false
   },
   "outputs": [
    {
     "name": "stdout",
     "output_type": "stream",
     "text": [
      "0.723257039182\n"
     ]
    }
   ],
   "source": [
    "t1 = time.clock()\n",
    "data = list(rawD)    \n",
    "# init pandas dataframe\n",
    "df = pd.DataFrame(data)\n",
    "t2 = time.clock()\n",
    "print t2-t1"
   ]
  },
  {
   "cell_type": "code",
   "execution_count": 7,
   "metadata": {
    "collapsed": false
   },
   "outputs": [
    {
     "name": "stdout",
     "output_type": "stream",
     "text": [
      "0.000684218388825\n"
     ]
    }
   ],
   "source": [
    "t1 = time.clock()\n",
    "gb = df.groupby(df[0])\n",
    "t2 = time.clock()\n",
    "print t2-t1"
   ]
  },
  {
   "cell_type": "code",
   "execution_count": 11,
   "metadata": {
    "collapsed": false
   },
   "outputs": [
    {
     "name": "stdout",
     "output_type": "stream",
     "text": [
      "0.0408227498053\n"
     ]
    }
   ],
   "source": [
    "t1 = time.clock()\n",
    "s2 = gb.mean().T\n",
    "t2 = time.clock()\n",
    "print t2-t1"
   ]
  },
  {
   "cell_type": "code",
   "execution_count": 13,
   "metadata": {
    "collapsed": false
   },
   "outputs": [
    {
     "name": "stdout",
     "output_type": "stream",
     "text": [
      "9.13738249975\n"
     ]
    }
   ],
   "source": [
    "t1 = time.clock()\n",
    "s = gb.quantile([.25,.5,.75]).T\n",
    "t2 = time.clock()\n",
    "print t2-t1"
   ]
  },
  {
   "cell_type": "code",
   "execution_count": 14,
   "metadata": {
    "collapsed": false
   },
   "outputs": [
    {
     "data": {
      "text/html": [
       "<div>\n",
       "<table border=\"1\" class=\"dataframe\">\n",
       "  <thead>\n",
       "    <tr>\n",
       "      <th>0</th>\n",
       "      <th colspan=\"3\" halign=\"left\">ASSIGNED NEW</th>\n",
       "      <th colspan=\"3\" halign=\"left\">ASSIGNED NEW ASSIGNED</th>\n",
       "      <th colspan=\"3\" halign=\"left\">ASSIGNED NEW ASSIGNED NEW</th>\n",
       "      <th>ASSIGNED NEW ASSIGNED NEW ASSIGNED</th>\n",
       "      <th>...</th>\n",
       "      <th>UNCONFIRMED RESOLVED VERIFIED UNCONFIRMED RESOLVED UNCONFIRMED</th>\n",
       "      <th colspan=\"3\" halign=\"left\">UNCONFIRMED RESOLVED VERIFIED UNCONFIRMED RESOLVED VERIFIED</th>\n",
       "      <th colspan=\"3\" halign=\"left\">VERIFIED REOPENED RESOLVED VERIFIED</th>\n",
       "      <th colspan=\"3\" halign=\"left\">VERIFIED UNCONFIRMED RESOLVED VERIFIED</th>\n",
       "    </tr>\n",
       "    <tr>\n",
       "      <th></th>\n",
       "      <th>0.25</th>\n",
       "      <th>0.50</th>\n",
       "      <th>0.75</th>\n",
       "      <th>0.25</th>\n",
       "      <th>0.50</th>\n",
       "      <th>0.75</th>\n",
       "      <th>0.25</th>\n",
       "      <th>0.50</th>\n",
       "      <th>0.75</th>\n",
       "      <th>0.25</th>\n",
       "      <th>...</th>\n",
       "      <th>0.75</th>\n",
       "      <th>0.25</th>\n",
       "      <th>0.50</th>\n",
       "      <th>0.75</th>\n",
       "      <th>0.25</th>\n",
       "      <th>0.50</th>\n",
       "      <th>0.75</th>\n",
       "      <th>0.25</th>\n",
       "      <th>0.50</th>\n",
       "      <th>0.75</th>\n",
       "    </tr>\n",
       "  </thead>\n",
       "  <tbody>\n",
       "    <tr>\n",
       "      <th>1</th>\n",
       "      <td>7314989.0</td>\n",
       "      <td>21087081.0</td>\n",
       "      <td>45343355.5</td>\n",
       "      <td>1454132.5</td>\n",
       "      <td>3591521.0</td>\n",
       "      <td>21694197.00</td>\n",
       "      <td>6442845.0</td>\n",
       "      <td>17948492.0</td>\n",
       "      <td>18860659.0</td>\n",
       "      <td>2067637.0</td>\n",
       "      <td>...</td>\n",
       "      <td>16564156.25</td>\n",
       "      <td>1264.50</td>\n",
       "      <td>9065.5</td>\n",
       "      <td>166820.75</td>\n",
       "      <td>76156504.25</td>\n",
       "      <td>76545326.0</td>\n",
       "      <td>76740284.75</td>\n",
       "      <td>19548028.25</td>\n",
       "      <td>19549636.5</td>\n",
       "      <td>19551244.75</td>\n",
       "    </tr>\n",
       "    <tr>\n",
       "      <th>2</th>\n",
       "      <td>NaN</td>\n",
       "      <td>NaN</td>\n",
       "      <td>NaN</td>\n",
       "      <td>4435416.5</td>\n",
       "      <td>6616153.0</td>\n",
       "      <td>14062928.25</td>\n",
       "      <td>1577623.0</td>\n",
       "      <td>7602607.0</td>\n",
       "      <td>9875705.0</td>\n",
       "      <td>4558239.0</td>\n",
       "      <td>...</td>\n",
       "      <td>24825.50</td>\n",
       "      <td>804.00</td>\n",
       "      <td>16542.5</td>\n",
       "      <td>179873.00</td>\n",
       "      <td>24.75</td>\n",
       "      <td>73.0</td>\n",
       "      <td>110.75</td>\n",
       "      <td>2402587.75</td>\n",
       "      <td>2404202.5</td>\n",
       "      <td>2405817.25</td>\n",
       "    </tr>\n",
       "    <tr>\n",
       "      <th>3</th>\n",
       "      <td>NaN</td>\n",
       "      <td>NaN</td>\n",
       "      <td>NaN</td>\n",
       "      <td>NaN</td>\n",
       "      <td>NaN</td>\n",
       "      <td>NaN</td>\n",
       "      <td>17606.0</td>\n",
       "      <td>6624657.0</td>\n",
       "      <td>37044237.0</td>\n",
       "      <td>286385.0</td>\n",
       "      <td>...</td>\n",
       "      <td>1023.00</td>\n",
       "      <td>8264.75</td>\n",
       "      <td>111098.0</td>\n",
       "      <td>5598911.25</td>\n",
       "      <td>66.50</td>\n",
       "      <td>129.0</td>\n",
       "      <td>175.00</td>\n",
       "      <td>2201492.00</td>\n",
       "      <td>2201495.0</td>\n",
       "      <td>2201498.00</td>\n",
       "    </tr>\n",
       "    <tr>\n",
       "      <th>4</th>\n",
       "      <td>NaN</td>\n",
       "      <td>NaN</td>\n",
       "      <td>NaN</td>\n",
       "      <td>NaN</td>\n",
       "      <td>NaN</td>\n",
       "      <td>NaN</td>\n",
       "      <td>NaN</td>\n",
       "      <td>NaN</td>\n",
       "      <td>NaN</td>\n",
       "      <td>1421447.0</td>\n",
       "      <td>...</td>\n",
       "      <td>585.50</td>\n",
       "      <td>38.75</td>\n",
       "      <td>1104.0</td>\n",
       "      <td>73891.75</td>\n",
       "      <td>NaN</td>\n",
       "      <td>NaN</td>\n",
       "      <td>NaN</td>\n",
       "      <td>NaN</td>\n",
       "      <td>NaN</td>\n",
       "      <td>NaN</td>\n",
       "    </tr>\n",
       "    <tr>\n",
       "      <th>5</th>\n",
       "      <td>NaN</td>\n",
       "      <td>NaN</td>\n",
       "      <td>NaN</td>\n",
       "      <td>NaN</td>\n",
       "      <td>NaN</td>\n",
       "      <td>NaN</td>\n",
       "      <td>NaN</td>\n",
       "      <td>NaN</td>\n",
       "      <td>NaN</td>\n",
       "      <td>NaN</td>\n",
       "      <td>...</td>\n",
       "      <td>3090.25</td>\n",
       "      <td>1390.25</td>\n",
       "      <td>34200.0</td>\n",
       "      <td>1832249.00</td>\n",
       "      <td>NaN</td>\n",
       "      <td>NaN</td>\n",
       "      <td>NaN</td>\n",
       "      <td>NaN</td>\n",
       "      <td>NaN</td>\n",
       "      <td>NaN</td>\n",
       "    </tr>\n",
       "  </tbody>\n",
       "</table>\n",
       "<p>5 rows × 1578 columns</p>\n",
       "</div>"
      ],
      "text/plain": [
       "0 ASSIGNED NEW                         ASSIGNED NEW ASSIGNED             \\\n",
       "          0.25        0.50        0.75                  0.25       0.50   \n",
       "1    7314989.0  21087081.0  45343355.5             1454132.5  3591521.0   \n",
       "2          NaN         NaN         NaN             4435416.5  6616153.0   \n",
       "3          NaN         NaN         NaN                   NaN        NaN   \n",
       "4          NaN         NaN         NaN                   NaN        NaN   \n",
       "5          NaN         NaN         NaN                   NaN        NaN   \n",
       "\n",
       "0              ASSIGNED NEW ASSIGNED NEW                          \\\n",
       "          0.75                      0.25        0.50        0.75   \n",
       "1  21694197.00                 6442845.0  17948492.0  18860659.0   \n",
       "2  14062928.25                 1577623.0   7602607.0   9875705.0   \n",
       "3          NaN                   17606.0   6624657.0  37044237.0   \n",
       "4          NaN                       NaN         NaN         NaN   \n",
       "5          NaN                       NaN         NaN         NaN   \n",
       "\n",
       "0 ASSIGNED NEW ASSIGNED NEW ASSIGNED     ...       \\\n",
       "                                0.25     ...        \n",
       "1                          2067637.0     ...        \n",
       "2                          4558239.0     ...        \n",
       "3                           286385.0     ...        \n",
       "4                          1421447.0     ...        \n",
       "5                                NaN     ...        \n",
       "\n",
       "0 UNCONFIRMED RESOLVED VERIFIED UNCONFIRMED RESOLVED UNCONFIRMED  \\\n",
       "                                                            0.75   \n",
       "1                                        16564156.25               \n",
       "2                                           24825.50               \n",
       "3                                            1023.00               \n",
       "4                                             585.50               \n",
       "5                                            3090.25               \n",
       "\n",
       "0 UNCONFIRMED RESOLVED VERIFIED UNCONFIRMED RESOLVED VERIFIED            \\\n",
       "                                                         0.25      0.50   \n",
       "1                                            1264.50             9065.5   \n",
       "2                                             804.00            16542.5   \n",
       "3                                            8264.75           111098.0   \n",
       "4                                              38.75             1104.0   \n",
       "5                                            1390.25            34200.0   \n",
       "\n",
       "0             VERIFIED REOPENED RESOLVED VERIFIED                           \\\n",
       "         0.75                                0.25        0.50         0.75   \n",
       "1   166820.75                         76156504.25  76545326.0  76740284.75   \n",
       "2   179873.00                               24.75        73.0       110.75   \n",
       "3  5598911.25                               66.50       129.0       175.00   \n",
       "4    73891.75                                 NaN         NaN          NaN   \n",
       "5  1832249.00                                 NaN         NaN          NaN   \n",
       "\n",
       "0 VERIFIED UNCONFIRMED RESOLVED VERIFIED                           \n",
       "                                    0.25        0.50         0.75  \n",
       "1                            19548028.25  19549636.5  19551244.75  \n",
       "2                             2402587.75   2404202.5   2405817.25  \n",
       "3                             2201492.00   2201495.0   2201498.00  \n",
       "4                                    NaN         NaN          NaN  \n",
       "5                                    NaN         NaN          NaN  \n",
       "\n",
       "[5 rows x 1578 columns]"
      ]
     },
     "execution_count": 14,
     "metadata": {},
     "output_type": "execute_result"
    }
   ],
   "source": [
    "s"
   ]
  },
  {
   "cell_type": "code",
   "execution_count": 15,
   "metadata": {
    "collapsed": false
   },
   "outputs": [
    {
     "data": {
      "text/plain": [
       "679387"
      ]
     },
     "execution_count": 15,
     "metadata": {},
     "output_type": "execute_result"
    }
   ],
   "source": [
    "len(data)"
   ]
  },
  {
   "cell_type": "code",
   "execution_count": null,
   "metadata": {
    "collapsed": true
   },
   "outputs": [],
   "source": [
    "rawDict = {}\n",
    "for row in data:\n",
    "    if row[0] not in rawDict:\n",
    "        rawDict[row[0]]"
   ]
  }
 ],
 "metadata": {
  "kernelspec": {
   "display_name": "Python 2",
   "language": "python",
   "name": "python2"
  },
  "language_info": {
   "codemirror_mode": {
    "name": "ipython",
    "version": 2
   },
   "file_extension": ".py",
   "mimetype": "text/x-python",
   "name": "python",
   "nbconvert_exporter": "python",
   "pygments_lexer": "ipython2",
   "version": "2.7.11"
  }
 },
 "nbformat": 4,
 "nbformat_minor": 0
}
